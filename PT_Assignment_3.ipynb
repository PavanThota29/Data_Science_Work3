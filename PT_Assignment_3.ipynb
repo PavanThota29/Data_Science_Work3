{
 "cells": [
  {
   "cell_type": "code",
   "execution_count": null,
   "metadata": {},
   "outputs": [],
   "source": [
    "#Task 1:\n",
    "#1.\n",
    "#Write a function to compute 5/0 and use try/except to catch the exceptions."
   ]
  },
  {
   "cell_type": "code",
   "execution_count": 15,
   "metadata": {},
   "outputs": [
    {
     "name": "stdout",
     "output_type": "stream",
     "text": [
      "Error: Value computation error\n"
     ]
    }
   ],
   "source": [
    "# Function to compute undefined\n",
    "def try_compute():\n",
    "    # use try and except capture the exception\n",
    "    try:\n",
    "        5/0\n",
    "    except:\n",
    "        print('Error: Value computation error')\n",
    "    else:\n",
    "        print('All is well')\n",
    "        \n",
    "#Execute the function to test it\n",
    "try_compute()"
   ]
  },
  {
   "cell_type": "code",
   "execution_count": null,
   "metadata": {},
   "outputs": [],
   "source": [
    "#2.\n",
    "#Implement a Python program to generate all sentences where subject is in [\"Americans\",\n",
    "#\"Indians\"] and verb is in [\"Play\", \"watch\"] and the object is in [\"Baseball\",\"cricket\"].\n",
    "#Hint: Subject,Verb and Object should be declared in the program as shown below.\n",
    "#subjects=[\"Americans \",\"Indians\"]\n",
    "#verbs=[\"play\",\"watch\"]\n",
    "#objects=[\"Baseball\",\"Cricket\"]\n",
    "#Output should come as below:\n",
    "#Americans play Baseball.\n",
    "#Americans play Cricket.\n",
    "#Americans watch Baseball.\n",
    "#Americans watch Cricket.\n",
    "#Indians play Baseball.\n",
    "#Indians play Cricket.\n",
    "#Indians watch Baseball.\n",
    "#Indians watch Cricket."
   ]
  },
  {
   "cell_type": "code",
   "execution_count": 14,
   "metadata": {},
   "outputs": [
    {
     "name": "stdout",
     "output_type": "stream",
     "text": [
      "Americans  play Baseball\n",
      "Americans  play Cricket\n",
      "Americans  watch Baseball\n",
      "Americans  watch Cricket\n",
      "Indians play Baseball\n",
      "Indians play Cricket\n",
      "Indians watch Baseball\n",
      "Indians watch Cricket\n"
     ]
    }
   ],
   "source": [
    "# Initialize variables\n",
    "subjects=[\"Americans \",\"Indians\"]\n",
    "verbs=[\"play\",\"watch\"]\n",
    "objects=[\"Baseball\",\"Cricket\"]\n",
    "# loop to get the iterable strings\n",
    "for i in subjects:\n",
    "    for j in verbs:\n",
    "        for k in objects:\n",
    "            print (i+' '+j+' '+k)"
   ]
  },
  {
   "cell_type": "code",
   "execution_count": null,
   "metadata": {},
   "outputs": [],
   "source": [
    "#Task 2:\n",
    "#1.\n",
    "#Write a function so that the columns of the output matrix are powers of the input vector.\n",
    "#The order of the powers is determined by the increasing boolean argument. Specifically, when\n",
    "#increasing is False, the i-th output column is the input vector raised element-wise to the power\n",
    "#of N - i - 1.\n",
    "#HINT: Such a matrix with a geometric progression in each row is named for Alexandre-\n",
    "#Theophile Vandermonde."
   ]
  },
  {
   "cell_type": "code",
   "execution_count": 16,
   "metadata": {},
   "outputs": [
    {
     "name": "stdout",
     "output_type": "stream",
     "text": [
      "Enter Value for N: 3\n"
     ]
    },
    {
     "data": {
      "text/plain": [
       "array([[ 1,  1,  1],\n",
       "       [ 9,  3,  1],\n",
       "       [16,  4,  1],\n",
       "       [36,  6,  1]], dtype=int32)"
      ]
     },
     "execution_count": 16,
     "metadata": {},
     "output_type": "execute_result"
    }
   ],
   "source": [
    "# Import required libraries\n",
    "import numpy as np\n",
    "# Initialize variables\n",
    "N = int(input(\"Enter Value for N: \"))\n",
    "x = np.array([1,3,4,6])\n",
    "# Logic to get vander results\n",
    "np.column_stack([x**(N-1-i) for i in range(N)])"
   ]
  }
 ],
 "metadata": {
  "kernelspec": {
   "display_name": "Python 3",
   "language": "python",
   "name": "python3"
  },
  "language_info": {
   "codemirror_mode": {
    "name": "ipython",
    "version": 3
   },
   "file_extension": ".py",
   "mimetype": "text/x-python",
   "name": "python",
   "nbconvert_exporter": "python",
   "pygments_lexer": "ipython3",
   "version": "3.7.0"
  }
 },
 "nbformat": 4,
 "nbformat_minor": 2
}
